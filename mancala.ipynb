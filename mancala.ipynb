{
  "nbformat": 4,
  "nbformat_minor": 0,
  "metadata": {
    "colab": {
      "provenance": [],
      "include_colab_link": true
    },
    "kernelspec": {
      "name": "python3",
      "display_name": "Python 3"
    },
    "language_info": {
      "name": "python"
    }
  },
  "cells": [
    {
      "cell_type": "markdown",
      "metadata": {
        "id": "view-in-github",
        "colab_type": "text"
      },
      "source": [
        "<a href=\"https://colab.research.google.com/github/yeshitha-kuppireddy/mancala/blob/main/mancala.ipynb\" target=\"_parent\"><img src=\"https://colab.research.google.com/assets/colab-badge.svg\" alt=\"Open In Colab\"/></a>"
      ]
    },
    {
      "cell_type": "markdown",
      "source": [
        "changing board according to i"
      ],
      "metadata": {
        "id": "z0Bb3ybsMwOj"
      }
    },
    {
      "cell_type": "markdown",
      "source": [
        "#board\n",
        "#[p1marbles]\n",
        "#[p1] ...... [p2]\n",
        "#[p2marbles]"
      ],
      "metadata": {
        "id": "qnwIEC8y_CCl"
      }
    },
    {
      "cell_type": "code",
      "source": [
        "\n",
        "p1mancala=0\n",
        "p1marbles=[4,4,4,4,4,4]\n",
        "p2mancala=0\n",
        "p2marbles=[4,4,4,4,4,4]"
      ],
      "metadata": {
        "id": "dB3qwuRT9OXI"
      },
      "execution_count": null,
      "outputs": []
    },
    {
      "cell_type": "code",
      "source": [
        "turn='p2'\n",
        "i=3\n",
        "change_board_acc_to_button(turn,i,p1mancala, p1marbles, p2mancala, p2marbles)"
      ],
      "metadata": {
        "colab": {
          "base_uri": "https://localhost:8080/"
        },
        "id": "qSMTJpowvwnN",
        "outputId": "b6919771-0a54-4b9b-8ffd-ae4dd1ad1d85"
      },
      "execution_count": null,
      "outputs": [
        {
          "output_type": "execute_result",
          "data": {
            "text/plain": [
              "(False, 0, [4, 4, 4, 4, 4, 5], 0, [4, 4, 4, 0, 4, 4])"
            ]
          },
          "metadata": {},
          "execution_count": 96
        }
      ]
    },
    {
      "cell_type": "code",
      "source": [
        "def change_board_acc_to_button(turn, i, p1mancala, p1marbles, p2mancala, p2marbles):\n",
        "    extramove = False  # Initialize extra move as False\n",
        "\n",
        "    if turn == 'p2':\n",
        "        marbles = p2marbles[i]  # Get the number of marbles from the selected pit\n",
        "        p2marbles[i] = 0  # Set the selected pit to 0\n",
        "        current_idx = i  # Start from the selected index\n",
        "\n",
        "        while marbles > 0:\n",
        "            current_idx += 1\n",
        "            if current_idx == len(p2marbles):  # Distribute in p2's Mancala\n",
        "                p2mancala += 1\n",
        "                if marbles == 1:  # If last marble goes into Mancala, extra move\n",
        "                    extramove = True\n",
        "            elif current_idx > len(p2marbles) and current_idx <= len(p2marbles) + len(p1marbles):  # Distribute in p1's pits\n",
        "                reverse_idx = len(p1marbles) - (current_idx - len(p2marbles))  # Reverse distribution in p1's pits\n",
        "                p1marbles[reverse_idx] += 1\n",
        "            elif current_idx > len(p2marbles) + len(p1marbles):  # Wrap around back to p2's pits\n",
        "                current_idx = -1  # Reset index to wrap around\n",
        "\n",
        "            marbles -= 1  # Decrease marble count\n",
        "\n",
        "    elif turn == 'p1':\n",
        "        marbles = p1marbles[i]  # Get the number of marbles from the selected pit\n",
        "        p1marbles[i] = 0  # Set the selected pit to 0\n",
        "        current_idx = i  # Start from the selected index\n",
        "\n",
        "        while marbles > 0:\n",
        "            current_idx += 1\n",
        "            if current_idx == len(p1marbles):  # Distribute in p1's Mancala\n",
        "                p1mancala += 1\n",
        "                if marbles == 1:  # If last marble goes into Mancala, extra move\n",
        "                    extramove = True\n",
        "            elif current_idx > len(p1marbles) and current_idx <= len(p1marbles) + len(p2marbles):  # Distribute in p2's pits\n",
        "                reverse_idx = len(p2marbles) - (current_idx - len(p1marbles))  # Reverse distribution in p2's pits\n",
        "                p2marbles[reverse_idx] += 1\n",
        "            elif current_idx > len(p1marbles) + len(p2marbles):  # Wrap around back to p1's pits\n",
        "                current_idx = -1  # Reset index to wrap around\n",
        "\n",
        "            marbles -= 1  # Decrease marble count\n",
        "\n",
        "    return extramove, p1mancala, p1marbles, p2mancala, p2marbles\n",
        "\n"
      ],
      "metadata": {
        "id": "SdTVatC0PreF"
      },
      "execution_count": null,
      "outputs": []
    },
    {
      "cell_type": "markdown",
      "source": [
        "defining i (which move to make)"
      ],
      "metadata": {
        "id": "yflB1oVZMpt4"
      }
    },
    {
      "cell_type": "code",
      "source": [
        "def makemove(turn,p1mancala, p1marbles, p2mancala,p2marbles):\n",
        "  if turn=='p2':\n",
        "    print('your turn')\n",
        "    i=int(input('which move do you want to make: '))\n",
        "    extramove,p1mancala, p1marbles, p2mancala, p2marbles=changeboardacctobutton(turn,i,p1mancala, p1marbles, p2mancala, p2marbles)\n",
        "    return extramove,p1mancala, p1marbles, p2mancala, p2marbles\n",
        "  else:\n",
        "    i=bestmove(p1mancala, p1marbles, p2mancala, p2marbles)\n",
        "    p1mancala, p1marbles, p2mancala, p2marbles=changeboardacctobutton(turn,i,p1mancala, p1marbles, p2mancala, p2marbles)"
      ],
      "metadata": {
        "id": "EOp-UhbwVpyx"
      },
      "execution_count": null,
      "outputs": []
    },
    {
      "cell_type": "code",
      "source": [
        "class GameState:\n",
        "    def __init__(self, p1mancala, p1marbles, p2mancala, p2marbles, turn):\n",
        "        self.p1mancala = p1mancala\n",
        "        self.p1marbles = p1marbles[:]\n",
        "        self.p2mancala = p2mancala\n",
        "        self.p2marbles = p2marbles[:]\n",
        "        self.turn = turn\n",
        "\n",
        "    def is_terminal(self):\n",
        "        return all(m == 0 for m in self.p1marbles) or all(m == 0 for m in self.p2marbles)\n",
        "\n",
        "    def get_legal_moves(self):\n",
        "        if self.turn == 'p1':\n",
        "            return [i for i in range(6) if self.p1marbles[i] > 0]\n",
        "        else:\n",
        "            return [i for i in range(6) if self.p2marbles[i] > 0]\n",
        "\n",
        "    def apply_move(self, move):\n",
        "        new_state = GameState(self.p1mancala, self.p1marbles, self.p2mancala, self.p2marbles, self.turn)\n",
        "        if new_state.turn == 'p1':\n",
        "            extramove, new_state.p1mancala, new_state.p1marbles, new_state.p2mancala, new_state.p2marbles = changeboardacctobutton(new_state.turn,move, new_state.p1mancala, new_state.p1marbles, new_state.p2mancala, new_state.p2marbles)\n",
        "            new_state.turn = 'p1' if extramove else 'p2'\n",
        "        else:\n",
        "            extramove, new_state.p1mancala, new_state.p1marbles, new_state.p2mancala, new_state.p2marbles = changeboardacctobutton(new_state.turn,move, new_state.p2mancala, new_state.p2marbles, new_state.p1mancala, new_state.p1marbles)\n",
        "            new_state.turn = 'p2' if extramove else 'p1'\n",
        "        return new_state\n",
        "\n",
        "    def get_winner(self):\n",
        "        if self.is_terminal():\n",
        "            if self.p1mancala > self.p2mancala:\n",
        "                return 'p1'\n",
        "            elif self.p1mancala < self.p2mancala:\n",
        "                return 'p2'\n",
        "            else:\n",
        "                return 'draw'\n",
        "        return None\n"
      ],
      "metadata": {
        "id": "dgNtqklX0mkU"
      },
      "execution_count": null,
      "outputs": []
    },
    {
      "cell_type": "code",
      "source": [
        "import math\n",
        "class MCTSNode:\n",
        "    def __init__(self, state, parent=None):\n",
        "        self.state = state\n",
        "        self.parent = parent\n",
        "        self.children = []\n",
        "        self.visits = 0\n",
        "        self.wins = 0\n",
        "\n",
        "    def is_fully_expanded(self):\n",
        "        return len(self.children) == len(self.state.get_legal_moves())\n",
        "\n",
        "    def best_child(self, c_param=math.sqrt(2)):\n",
        "        choices_weights = []\n",
        "        for child in self.children:\n",
        "            if child.visits == 0:\n",
        "                choices_weights.append(float('inf'))  # Ensure nodes with zero visits are explored\n",
        "            else:\n",
        "                choices_weights.append(\n",
        "                    (child.wins / child.visits) + c_param * math.sqrt((2 * math.log(self.visits) / child.visits))\n",
        "                )\n",
        "        return self.children[choices_weights.index(max(choices_weights))]\n",
        "\n",
        "    def expand(self):\n",
        "        legal_moves = self.state.get_legal_moves()\n",
        "        for move in legal_moves:\n",
        "            new_state = self.state.apply_move(move)\n",
        "            child_node = MCTSNode(new_state, parent=self)\n",
        "            self.children.append(child_node)\n",
        "\n",
        "    def backpropagate(self, result):\n",
        "        self.visits += 1\n",
        "        if self.state.turn == 'p1' and result == 'p1':\n",
        "            self.wins += 1\n",
        "        elif self.state.turn == 'p2' and result == 'p2':\n",
        "            self.wins += 1\n",
        "        elif result == 'draw':\n",
        "            self.wins += 0.5\n",
        "        if self.parent:\n",
        "            self.parent.backpropagate(result)\n"
      ],
      "metadata": {
        "id": "APWaJ58C7kbH"
      },
      "execution_count": null,
      "outputs": []
    },
    {
      "cell_type": "code",
      "source": [
        "import random\n",
        "\n",
        "class MCTS:\n",
        "    def __init__(self, time_limit=1):\n",
        "        self.time_limit = time_limit\n",
        "\n",
        "    def search(self, initial_state):\n",
        "        root = MCTSNode(initial_state)\n",
        "\n",
        "        import time\n",
        "        end_time = time.time() + self.time_limit\n",
        "        print(end_time)\n",
        "\n",
        "        while time.time() < end_time:\n",
        "            node = self.select(root)\n",
        "            if not node.state.is_terminal():\n",
        "                node.expand()\n",
        "                node = random.choice(node.children)\n",
        "            result = self.simulate(node)\n",
        "            node.backpropagate(result)\n",
        "\n",
        "        return root.best_child(c_param=0)\n",
        "\n",
        "    def select(self, node):\n",
        "        while not node.state.is_terminal() and node.is_fully_expanded():\n",
        "            node = node.best_child()\n",
        "        return node\n",
        "\n",
        "    def simulate(self, node):\n",
        "        current_state = node.state\n",
        "        while not current_state.is_terminal():\n",
        "            move = random.choice(current_state.get_legal_moves())\n",
        "            current_state = current_state.apply_move(move)\n",
        "        return current_state.get_winner()\n"
      ],
      "metadata": {
        "id": "zJN92Xn0sbH2"
      },
      "execution_count": null,
      "outputs": []
    },
    {
      "cell_type": "code",
      "source": [
        "def bestmove(p1mancala, p1marbles, p2mancala, p2marbles):\n",
        "  initial_state = GameState(p1mancala, p1marbles, p2mancala, p2marbles, turn='p1')\n",
        "\n",
        "  mcts = MCTS(time_limit=1)  # Run MCTS for 1 second\n",
        "  best_move_node = mcts.search(initial_state)\n",
        "\n",
        "  # Extract the best move from the resulting node\n",
        "  for child in best_move_node.parent.children:\n",
        "      if child == best_move_node:\n",
        "          best_move = initial_state.get_legal_moves()[best_move_node.parent.children.index(child)]\n",
        "          break\n",
        "\n",
        "  return best_move\n",
        "\n",
        "p1mancala=0\n",
        "p1marbles=[4,4,4,4,4,4]\n",
        "p2mancala=0\n",
        "p2marbles=[4,4,4,4,4,4]\n",
        "bestmove(p1mancala, p1marbles, p2mancala, p2marbles)\n"
      ],
      "metadata": {
        "id": "PlM__4sasg74",
        "colab": {
          "base_uri": "https://localhost:8080/",
          "height": 329
        },
        "outputId": "153403ff-0b4c-47b9-9bfb-74578e3c2333"
      },
      "execution_count": null,
      "outputs": [
        {
          "output_type": "error",
          "ename": "IndexError",
          "evalue": "list index out of range",
          "traceback": [
            "\u001b[0;31m---------------------------------------------------------------------------\u001b[0m",
            "\u001b[0;31mIndexError\u001b[0m                                Traceback (most recent call last)",
            "\u001b[0;32m<ipython-input-12-bc0e970e6697>\u001b[0m in \u001b[0;36m<cell line: 19>\u001b[0;34m()\u001b[0m\n\u001b[1;32m     17\u001b[0m \u001b[0mp2mancala\u001b[0m\u001b[0;34m=\u001b[0m\u001b[0;36m0\u001b[0m\u001b[0;34m\u001b[0m\u001b[0;34m\u001b[0m\u001b[0m\n\u001b[1;32m     18\u001b[0m \u001b[0mp2marbles\u001b[0m\u001b[0;34m=\u001b[0m\u001b[0;34m[\u001b[0m\u001b[0;36m4\u001b[0m\u001b[0;34m,\u001b[0m\u001b[0;36m4\u001b[0m\u001b[0;34m,\u001b[0m\u001b[0;36m4\u001b[0m\u001b[0;34m,\u001b[0m\u001b[0;36m4\u001b[0m\u001b[0;34m,\u001b[0m\u001b[0;36m4\u001b[0m\u001b[0;34m,\u001b[0m\u001b[0;36m4\u001b[0m\u001b[0;34m]\u001b[0m\u001b[0;34m\u001b[0m\u001b[0;34m\u001b[0m\u001b[0m\n\u001b[0;32m---> 19\u001b[0;31m \u001b[0mbestmove\u001b[0m\u001b[0;34m(\u001b[0m\u001b[0mp1mancala\u001b[0m\u001b[0;34m,\u001b[0m \u001b[0mp1marbles\u001b[0m\u001b[0;34m,\u001b[0m \u001b[0mp2mancala\u001b[0m\u001b[0;34m,\u001b[0m \u001b[0mp2marbles\u001b[0m\u001b[0;34m)\u001b[0m\u001b[0;34m\u001b[0m\u001b[0;34m\u001b[0m\u001b[0m\n\u001b[0m",
            "\u001b[0;32m<ipython-input-12-bc0e970e6697>\u001b[0m in \u001b[0;36mbestmove\u001b[0;34m(p1mancala, p1marbles, p2mancala, p2marbles)\u001b[0m\n\u001b[1;32m      3\u001b[0m \u001b[0;34m\u001b[0m\u001b[0m\n\u001b[1;32m      4\u001b[0m   \u001b[0mmcts\u001b[0m \u001b[0;34m=\u001b[0m \u001b[0mMCTS\u001b[0m\u001b[0;34m(\u001b[0m\u001b[0mtime_limit\u001b[0m\u001b[0;34m=\u001b[0m\u001b[0;36m1\u001b[0m\u001b[0;34m)\u001b[0m  \u001b[0;31m# Run MCTS for 1 second\u001b[0m\u001b[0;34m\u001b[0m\u001b[0;34m\u001b[0m\u001b[0m\n\u001b[0;32m----> 5\u001b[0;31m   \u001b[0mbest_move_node\u001b[0m \u001b[0;34m=\u001b[0m \u001b[0mmcts\u001b[0m\u001b[0;34m.\u001b[0m\u001b[0msearch\u001b[0m\u001b[0;34m(\u001b[0m\u001b[0minitial_state\u001b[0m\u001b[0;34m)\u001b[0m\u001b[0;34m\u001b[0m\u001b[0;34m\u001b[0m\u001b[0m\n\u001b[0m\u001b[1;32m      6\u001b[0m \u001b[0;34m\u001b[0m\u001b[0m\n\u001b[1;32m      7\u001b[0m   \u001b[0;31m# Extract the best move from the resulting node\u001b[0m\u001b[0;34m\u001b[0m\u001b[0;34m\u001b[0m\u001b[0m\n",
            "\u001b[0;32m<ipython-input-11-9b8c7e2bc3d4>\u001b[0m in \u001b[0;36msearch\u001b[0;34m(self, initial_state)\u001b[0m\n\u001b[1;32m     16\u001b[0m                 \u001b[0mnode\u001b[0m\u001b[0;34m.\u001b[0m\u001b[0mexpand\u001b[0m\u001b[0;34m(\u001b[0m\u001b[0;34m)\u001b[0m\u001b[0;34m\u001b[0m\u001b[0;34m\u001b[0m\u001b[0m\n\u001b[1;32m     17\u001b[0m                 \u001b[0mnode\u001b[0m \u001b[0;34m=\u001b[0m \u001b[0mrandom\u001b[0m\u001b[0;34m.\u001b[0m\u001b[0mchoice\u001b[0m\u001b[0;34m(\u001b[0m\u001b[0mnode\u001b[0m\u001b[0;34m.\u001b[0m\u001b[0mchildren\u001b[0m\u001b[0;34m)\u001b[0m\u001b[0;34m\u001b[0m\u001b[0;34m\u001b[0m\u001b[0m\n\u001b[0;32m---> 18\u001b[0;31m             \u001b[0mresult\u001b[0m \u001b[0;34m=\u001b[0m \u001b[0mself\u001b[0m\u001b[0;34m.\u001b[0m\u001b[0msimulate\u001b[0m\u001b[0;34m(\u001b[0m\u001b[0mnode\u001b[0m\u001b[0;34m)\u001b[0m\u001b[0;34m\u001b[0m\u001b[0;34m\u001b[0m\u001b[0m\n\u001b[0m\u001b[1;32m     19\u001b[0m             \u001b[0mnode\u001b[0m\u001b[0;34m.\u001b[0m\u001b[0mbackpropagate\u001b[0m\u001b[0;34m(\u001b[0m\u001b[0mresult\u001b[0m\u001b[0;34m)\u001b[0m\u001b[0;34m\u001b[0m\u001b[0;34m\u001b[0m\u001b[0m\n\u001b[1;32m     20\u001b[0m \u001b[0;34m\u001b[0m\u001b[0m\n",
            "\u001b[0;32m<ipython-input-11-9b8c7e2bc3d4>\u001b[0m in \u001b[0;36msimulate\u001b[0;34m(self, node)\u001b[0m\n\u001b[1;32m     30\u001b[0m         \u001b[0;32mwhile\u001b[0m \u001b[0;32mnot\u001b[0m \u001b[0mcurrent_state\u001b[0m\u001b[0;34m.\u001b[0m\u001b[0mis_terminal\u001b[0m\u001b[0;34m(\u001b[0m\u001b[0;34m)\u001b[0m\u001b[0;34m:\u001b[0m\u001b[0;34m\u001b[0m\u001b[0;34m\u001b[0m\u001b[0m\n\u001b[1;32m     31\u001b[0m             \u001b[0mmove\u001b[0m \u001b[0;34m=\u001b[0m \u001b[0mrandom\u001b[0m\u001b[0;34m.\u001b[0m\u001b[0mchoice\u001b[0m\u001b[0;34m(\u001b[0m\u001b[0mcurrent_state\u001b[0m\u001b[0;34m.\u001b[0m\u001b[0mget_legal_moves\u001b[0m\u001b[0;34m(\u001b[0m\u001b[0;34m)\u001b[0m\u001b[0;34m)\u001b[0m\u001b[0;34m\u001b[0m\u001b[0;34m\u001b[0m\u001b[0m\n\u001b[0;32m---> 32\u001b[0;31m             \u001b[0mcurrent_state\u001b[0m \u001b[0;34m=\u001b[0m \u001b[0mcurrent_state\u001b[0m\u001b[0;34m.\u001b[0m\u001b[0mapply_move\u001b[0m\u001b[0;34m(\u001b[0m\u001b[0mmove\u001b[0m\u001b[0;34m)\u001b[0m\u001b[0;34m\u001b[0m\u001b[0;34m\u001b[0m\u001b[0m\n\u001b[0m\u001b[1;32m     33\u001b[0m         \u001b[0;32mreturn\u001b[0m \u001b[0mcurrent_state\u001b[0m\u001b[0;34m.\u001b[0m\u001b[0mget_winner\u001b[0m\u001b[0;34m(\u001b[0m\u001b[0;34m)\u001b[0m\u001b[0;34m\u001b[0m\u001b[0;34m\u001b[0m\u001b[0m\n",
            "\u001b[0;32m<ipython-input-9-451a126ccc1a>\u001b[0m in \u001b[0;36mapply_move\u001b[0;34m(self, move)\u001b[0m\n\u001b[1;32m     19\u001b[0m         \u001b[0mnew_state\u001b[0m \u001b[0;34m=\u001b[0m \u001b[0mGameState\u001b[0m\u001b[0;34m(\u001b[0m\u001b[0mself\u001b[0m\u001b[0;34m.\u001b[0m\u001b[0mp1mancala\u001b[0m\u001b[0;34m,\u001b[0m \u001b[0mself\u001b[0m\u001b[0;34m.\u001b[0m\u001b[0mp1marbles\u001b[0m\u001b[0;34m,\u001b[0m \u001b[0mself\u001b[0m\u001b[0;34m.\u001b[0m\u001b[0mp2mancala\u001b[0m\u001b[0;34m,\u001b[0m \u001b[0mself\u001b[0m\u001b[0;34m.\u001b[0m\u001b[0mp2marbles\u001b[0m\u001b[0;34m,\u001b[0m \u001b[0mself\u001b[0m\u001b[0;34m.\u001b[0m\u001b[0mturn\u001b[0m\u001b[0;34m)\u001b[0m\u001b[0;34m\u001b[0m\u001b[0;34m\u001b[0m\u001b[0m\n\u001b[1;32m     20\u001b[0m         \u001b[0;32mif\u001b[0m \u001b[0mnew_state\u001b[0m\u001b[0;34m.\u001b[0m\u001b[0mturn\u001b[0m \u001b[0;34m==\u001b[0m \u001b[0;34m'p1'\u001b[0m\u001b[0;34m:\u001b[0m\u001b[0;34m\u001b[0m\u001b[0;34m\u001b[0m\u001b[0m\n\u001b[0;32m---> 21\u001b[0;31m             \u001b[0mextramove\u001b[0m\u001b[0;34m,\u001b[0m \u001b[0mnew_state\u001b[0m\u001b[0;34m.\u001b[0m\u001b[0mp1mancala\u001b[0m\u001b[0;34m,\u001b[0m \u001b[0mnew_state\u001b[0m\u001b[0;34m.\u001b[0m\u001b[0mp1marbles\u001b[0m\u001b[0;34m,\u001b[0m \u001b[0mnew_state\u001b[0m\u001b[0;34m.\u001b[0m\u001b[0mp2mancala\u001b[0m\u001b[0;34m,\u001b[0m \u001b[0mnew_state\u001b[0m\u001b[0;34m.\u001b[0m\u001b[0mp2marbles\u001b[0m \u001b[0;34m=\u001b[0m \u001b[0mchangeboardacctobutton\u001b[0m\u001b[0;34m(\u001b[0m\u001b[0mnew_state\u001b[0m\u001b[0;34m.\u001b[0m\u001b[0mturn\u001b[0m\u001b[0;34m,\u001b[0m\u001b[0mmove\u001b[0m\u001b[0;34m,\u001b[0m \u001b[0mnew_state\u001b[0m\u001b[0;34m.\u001b[0m\u001b[0mp1mancala\u001b[0m\u001b[0;34m,\u001b[0m \u001b[0mnew_state\u001b[0m\u001b[0;34m.\u001b[0m\u001b[0mp1marbles\u001b[0m\u001b[0;34m,\u001b[0m \u001b[0mnew_state\u001b[0m\u001b[0;34m.\u001b[0m\u001b[0mp2mancala\u001b[0m\u001b[0;34m,\u001b[0m \u001b[0mnew_state\u001b[0m\u001b[0;34m.\u001b[0m\u001b[0mp2marbles\u001b[0m\u001b[0;34m)\u001b[0m\u001b[0;34m\u001b[0m\u001b[0;34m\u001b[0m\u001b[0m\n\u001b[0m\u001b[1;32m     22\u001b[0m             \u001b[0mnew_state\u001b[0m\u001b[0;34m.\u001b[0m\u001b[0mturn\u001b[0m \u001b[0;34m=\u001b[0m \u001b[0;34m'p1'\u001b[0m \u001b[0;32mif\u001b[0m \u001b[0mextramove\u001b[0m \u001b[0;32melse\u001b[0m \u001b[0;34m'p2'\u001b[0m\u001b[0;34m\u001b[0m\u001b[0;34m\u001b[0m\u001b[0m\n\u001b[1;32m     23\u001b[0m         \u001b[0;32melse\u001b[0m\u001b[0;34m:\u001b[0m\u001b[0;34m\u001b[0m\u001b[0;34m\u001b[0m\u001b[0m\n",
            "\u001b[0;32m<ipython-input-8-182aa9c0d1ca>\u001b[0m in \u001b[0;36mchangeboardacctobutton\u001b[0;34m(turn, i, p1mancalao, p1marbleso, p2mancalao, p2marbleso)\u001b[0m\n\u001b[1;32m     58\u001b[0m                 \u001b[0mstones\u001b[0m \u001b[0;34m-=\u001b[0m \u001b[0;36m6\u001b[0m\u001b[0;34m\u001b[0m\u001b[0;34m\u001b[0m\u001b[0m\n\u001b[1;32m     59\u001b[0m                 \u001b[0;32mfor\u001b[0m \u001b[0mj\u001b[0m \u001b[0;32min\u001b[0m \u001b[0mrange\u001b[0m\u001b[0;34m(\u001b[0m\u001b[0mstones\u001b[0m\u001b[0;34m)\u001b[0m\u001b[0;34m:\u001b[0m\u001b[0;34m\u001b[0m\u001b[0;34m\u001b[0m\u001b[0m\n\u001b[0;32m---> 60\u001b[0;31m                     \u001b[0mp1marbles\u001b[0m\u001b[0;34m[\u001b[0m\u001b[0mj\u001b[0m\u001b[0;34m]\u001b[0m \u001b[0;34m+=\u001b[0m \u001b[0;36m1\u001b[0m\u001b[0;34m\u001b[0m\u001b[0;34m\u001b[0m\u001b[0m\n\u001b[0m\u001b[1;32m     61\u001b[0m                 \u001b[0mstones\u001b[0m \u001b[0;34m=\u001b[0m \u001b[0;36m0\u001b[0m\u001b[0;34m\u001b[0m\u001b[0;34m\u001b[0m\u001b[0m\n\u001b[1;32m     62\u001b[0m         \u001b[0;32mreturn\u001b[0m \u001b[0mextramove\u001b[0m\u001b[0;34m,\u001b[0m \u001b[0mp1mancala\u001b[0m\u001b[0;34m,\u001b[0m \u001b[0mp1marbles\u001b[0m\u001b[0;34m,\u001b[0m \u001b[0mp2mancala\u001b[0m\u001b[0;34m,\u001b[0m \u001b[0mp2marbles\u001b[0m\u001b[0;34m\u001b[0m\u001b[0;34m\u001b[0m\u001b[0m\n",
            "\u001b[0;31mIndexError\u001b[0m: list index out of range"
          ]
        }
      ]
    },
    {
      "cell_type": "markdown",
      "source": [
        "gameloop"
      ],
      "metadata": {
        "id": "st-rDGZMMh8b"
      }
    },
    {
      "cell_type": "code",
      "source": [
        "#turnitemmakesamove\n",
        "\n",
        "turn='p2'\n",
        "keys={'p1':'p2','p2':'p1'}\n",
        "gameend=1\n",
        "\n",
        "p1mancala=0\n",
        "p1marbles=[4,4,4,4,4,4]\n",
        "p2mancala=0\n",
        "p2marbles=[4,4,4,4,4,4]\n",
        "def gameend(p1mancala, p1marbles, p2mancala, p2marbles):\n",
        "  if all(m == 0 for m in p1marbles) or all(m == 0 for m in p2marbles):\n",
        "        return 0\n",
        "  return 1\n",
        "\n",
        "while gameend(p1mancala, p1marbles, p2mancala, p2marbles) > 0:\n",
        "  extramove,p1mancala, p1marbles, p2mancala, p2marbles = makemove(turn,p1mancala, p1marbles, p2mancala, p2marbles)\n",
        "  print(p1mancala)\n",
        "  print(p1marbles)\n",
        "  print(p2mancala)\n",
        "  print(p2marbles)\n",
        "  if extramove==0:\n",
        "    turn=keys[turn]\n",
        "  gameendr=gameend(p1mancala, p1marbles, p2mancala, p2marbles)\n",
        "  if gameendr == 0:\n",
        "        break\n"
      ],
      "metadata": {
        "colab": {
          "base_uri": "https://localhost:8080/",
          "height": 472
        },
        "id": "0pA8QsauOD17",
        "outputId": "d4fda8c1-c0af-493b-e79f-81b2c1be96eb"
      },
      "execution_count": null,
      "outputs": [
        {
          "output_type": "stream",
          "name": "stdout",
          "text": [
            "your turn\n",
            "which move do you want to make: 1\n",
            "0\n",
            "[5, 5, 4, 4, 4, 4]\n",
            "1\n",
            "[5, 0, 4, 4, 4, 4]\n"
          ]
        },
        {
          "output_type": "error",
          "ename": "IndexError",
          "evalue": "list index out of range",
          "traceback": [
            "\u001b[0;31m---------------------------------------------------------------------------\u001b[0m",
            "\u001b[0;31mIndexError\u001b[0m                                Traceback (most recent call last)",
            "\u001b[0;32m<ipython-input-8-7d199653f61c>\u001b[0m in \u001b[0;36m<cell line: 15>\u001b[0;34m()\u001b[0m\n\u001b[1;32m     14\u001b[0m \u001b[0;34m\u001b[0m\u001b[0m\n\u001b[1;32m     15\u001b[0m \u001b[0;32mwhile\u001b[0m \u001b[0mgameend\u001b[0m\u001b[0;34m(\u001b[0m\u001b[0mp1mancala\u001b[0m\u001b[0;34m,\u001b[0m \u001b[0mp1marbles\u001b[0m\u001b[0;34m,\u001b[0m \u001b[0mp2mancala\u001b[0m\u001b[0;34m,\u001b[0m \u001b[0mp2marbles\u001b[0m\u001b[0;34m)\u001b[0m \u001b[0;34m>\u001b[0m \u001b[0;36m0\u001b[0m\u001b[0;34m:\u001b[0m\u001b[0;34m\u001b[0m\u001b[0;34m\u001b[0m\u001b[0m\n\u001b[0;32m---> 16\u001b[0;31m   \u001b[0mextramove\u001b[0m\u001b[0;34m,\u001b[0m\u001b[0mp1mancala\u001b[0m\u001b[0;34m,\u001b[0m \u001b[0mp1marbles\u001b[0m\u001b[0;34m,\u001b[0m \u001b[0mp2mancala\u001b[0m\u001b[0;34m,\u001b[0m \u001b[0mp2marbles\u001b[0m \u001b[0;34m=\u001b[0m \u001b[0mmakemove\u001b[0m\u001b[0;34m(\u001b[0m\u001b[0mturn\u001b[0m\u001b[0;34m,\u001b[0m\u001b[0mp1mancala\u001b[0m\u001b[0;34m,\u001b[0m \u001b[0mp1marbles\u001b[0m\u001b[0;34m,\u001b[0m \u001b[0mp2mancala\u001b[0m\u001b[0;34m,\u001b[0m \u001b[0mp2marbles\u001b[0m\u001b[0;34m)\u001b[0m\u001b[0;34m\u001b[0m\u001b[0;34m\u001b[0m\u001b[0m\n\u001b[0m\u001b[1;32m     17\u001b[0m   \u001b[0mprint\u001b[0m\u001b[0;34m(\u001b[0m\u001b[0mp1mancala\u001b[0m\u001b[0;34m)\u001b[0m\u001b[0;34m\u001b[0m\u001b[0;34m\u001b[0m\u001b[0m\n\u001b[1;32m     18\u001b[0m   \u001b[0mprint\u001b[0m\u001b[0;34m(\u001b[0m\u001b[0mp1marbles\u001b[0m\u001b[0;34m)\u001b[0m\u001b[0;34m\u001b[0m\u001b[0;34m\u001b[0m\u001b[0m\n",
            "\u001b[0;32m<ipython-input-2-90533cc6cfb4>\u001b[0m in \u001b[0;36mmakemove\u001b[0;34m(turn, p1mancala, p1marbles, p2mancala, p2marbles)\u001b[0m\n\u001b[1;32m      6\u001b[0m     \u001b[0;32mreturn\u001b[0m \u001b[0mextramove\u001b[0m\u001b[0;34m,\u001b[0m\u001b[0mp1mancala\u001b[0m\u001b[0;34m,\u001b[0m \u001b[0mp1marbles\u001b[0m\u001b[0;34m,\u001b[0m \u001b[0mp2mancala\u001b[0m\u001b[0;34m,\u001b[0m \u001b[0mp2marbles\u001b[0m\u001b[0;34m\u001b[0m\u001b[0;34m\u001b[0m\u001b[0m\n\u001b[1;32m      7\u001b[0m   \u001b[0;32melse\u001b[0m\u001b[0;34m:\u001b[0m\u001b[0;34m\u001b[0m\u001b[0;34m\u001b[0m\u001b[0m\n\u001b[0;32m----> 8\u001b[0;31m     \u001b[0mi\u001b[0m\u001b[0;34m=\u001b[0m\u001b[0mbestmove\u001b[0m\u001b[0;34m(\u001b[0m\u001b[0mp1mancala\u001b[0m\u001b[0;34m,\u001b[0m \u001b[0mp1marbles\u001b[0m\u001b[0;34m,\u001b[0m \u001b[0mp2mancala\u001b[0m\u001b[0;34m,\u001b[0m \u001b[0mp2marbles\u001b[0m\u001b[0;34m)\u001b[0m\u001b[0;34m\u001b[0m\u001b[0;34m\u001b[0m\u001b[0m\n\u001b[0m\u001b[1;32m      9\u001b[0m     \u001b[0mp1mancala\u001b[0m\u001b[0;34m,\u001b[0m \u001b[0mp1marbles\u001b[0m\u001b[0;34m,\u001b[0m \u001b[0mp2mancala\u001b[0m\u001b[0;34m,\u001b[0m \u001b[0mp2marbles\u001b[0m\u001b[0;34m=\u001b[0m\u001b[0mchangeboardacctobutton\u001b[0m\u001b[0;34m(\u001b[0m\u001b[0mturn\u001b[0m\u001b[0;34m,\u001b[0m\u001b[0mi\u001b[0m\u001b[0;34m,\u001b[0m\u001b[0mp1mancala\u001b[0m\u001b[0;34m,\u001b[0m \u001b[0mp1marbles\u001b[0m\u001b[0;34m,\u001b[0m \u001b[0mp2mancala\u001b[0m\u001b[0;34m,\u001b[0m \u001b[0mp2marbles\u001b[0m\u001b[0;34m)\u001b[0m\u001b[0;34m\u001b[0m\u001b[0;34m\u001b[0m\u001b[0m\n",
            "\u001b[0;32m<ipython-input-6-7d7623c6fb95>\u001b[0m in \u001b[0;36mbestmove\u001b[0;34m(p1mancala, p1marbles, p2mancala, p2marbles)\u001b[0m\n\u001b[1;32m      3\u001b[0m \u001b[0;34m\u001b[0m\u001b[0m\n\u001b[1;32m      4\u001b[0m   \u001b[0mmcts\u001b[0m \u001b[0;34m=\u001b[0m \u001b[0mMCTS\u001b[0m\u001b[0;34m(\u001b[0m\u001b[0mtime_limit\u001b[0m\u001b[0;34m=\u001b[0m\u001b[0;36m1\u001b[0m\u001b[0;34m)\u001b[0m  \u001b[0;31m# Run MCTS for 1 second\u001b[0m\u001b[0;34m\u001b[0m\u001b[0;34m\u001b[0m\u001b[0m\n\u001b[0;32m----> 5\u001b[0;31m   \u001b[0mbest_move_node\u001b[0m \u001b[0;34m=\u001b[0m \u001b[0mmcts\u001b[0m\u001b[0;34m.\u001b[0m\u001b[0msearch\u001b[0m\u001b[0;34m(\u001b[0m\u001b[0minitial_state\u001b[0m\u001b[0;34m)\u001b[0m\u001b[0;34m\u001b[0m\u001b[0;34m\u001b[0m\u001b[0m\n\u001b[0m\u001b[1;32m      6\u001b[0m \u001b[0;34m\u001b[0m\u001b[0m\n\u001b[1;32m      7\u001b[0m   \u001b[0;31m# Extract the best move from the resulting node\u001b[0m\u001b[0;34m\u001b[0m\u001b[0;34m\u001b[0m\u001b[0m\n",
            "\u001b[0;32m<ipython-input-5-9b8c7e2bc3d4>\u001b[0m in \u001b[0;36msearch\u001b[0;34m(self, initial_state)\u001b[0m\n\u001b[1;32m     16\u001b[0m                 \u001b[0mnode\u001b[0m\u001b[0;34m.\u001b[0m\u001b[0mexpand\u001b[0m\u001b[0;34m(\u001b[0m\u001b[0;34m)\u001b[0m\u001b[0;34m\u001b[0m\u001b[0;34m\u001b[0m\u001b[0m\n\u001b[1;32m     17\u001b[0m                 \u001b[0mnode\u001b[0m \u001b[0;34m=\u001b[0m \u001b[0mrandom\u001b[0m\u001b[0;34m.\u001b[0m\u001b[0mchoice\u001b[0m\u001b[0;34m(\u001b[0m\u001b[0mnode\u001b[0m\u001b[0;34m.\u001b[0m\u001b[0mchildren\u001b[0m\u001b[0;34m)\u001b[0m\u001b[0;34m\u001b[0m\u001b[0;34m\u001b[0m\u001b[0m\n\u001b[0;32m---> 18\u001b[0;31m             \u001b[0mresult\u001b[0m \u001b[0;34m=\u001b[0m \u001b[0mself\u001b[0m\u001b[0;34m.\u001b[0m\u001b[0msimulate\u001b[0m\u001b[0;34m(\u001b[0m\u001b[0mnode\u001b[0m\u001b[0;34m)\u001b[0m\u001b[0;34m\u001b[0m\u001b[0;34m\u001b[0m\u001b[0m\n\u001b[0m\u001b[1;32m     19\u001b[0m             \u001b[0mnode\u001b[0m\u001b[0;34m.\u001b[0m\u001b[0mbackpropagate\u001b[0m\u001b[0;34m(\u001b[0m\u001b[0mresult\u001b[0m\u001b[0;34m)\u001b[0m\u001b[0;34m\u001b[0m\u001b[0;34m\u001b[0m\u001b[0m\n\u001b[1;32m     20\u001b[0m \u001b[0;34m\u001b[0m\u001b[0m\n",
            "\u001b[0;32m<ipython-input-5-9b8c7e2bc3d4>\u001b[0m in \u001b[0;36msimulate\u001b[0;34m(self, node)\u001b[0m\n\u001b[1;32m     30\u001b[0m         \u001b[0;32mwhile\u001b[0m \u001b[0;32mnot\u001b[0m \u001b[0mcurrent_state\u001b[0m\u001b[0;34m.\u001b[0m\u001b[0mis_terminal\u001b[0m\u001b[0;34m(\u001b[0m\u001b[0;34m)\u001b[0m\u001b[0;34m:\u001b[0m\u001b[0;34m\u001b[0m\u001b[0;34m\u001b[0m\u001b[0m\n\u001b[1;32m     31\u001b[0m             \u001b[0mmove\u001b[0m \u001b[0;34m=\u001b[0m \u001b[0mrandom\u001b[0m\u001b[0;34m.\u001b[0m\u001b[0mchoice\u001b[0m\u001b[0;34m(\u001b[0m\u001b[0mcurrent_state\u001b[0m\u001b[0;34m.\u001b[0m\u001b[0mget_legal_moves\u001b[0m\u001b[0;34m(\u001b[0m\u001b[0;34m)\u001b[0m\u001b[0;34m)\u001b[0m\u001b[0;34m\u001b[0m\u001b[0;34m\u001b[0m\u001b[0m\n\u001b[0;32m---> 32\u001b[0;31m             \u001b[0mcurrent_state\u001b[0m \u001b[0;34m=\u001b[0m \u001b[0mcurrent_state\u001b[0m\u001b[0;34m.\u001b[0m\u001b[0mapply_move\u001b[0m\u001b[0;34m(\u001b[0m\u001b[0mmove\u001b[0m\u001b[0;34m)\u001b[0m\u001b[0;34m\u001b[0m\u001b[0;34m\u001b[0m\u001b[0m\n\u001b[0m\u001b[1;32m     33\u001b[0m         \u001b[0;32mreturn\u001b[0m \u001b[0mcurrent_state\u001b[0m\u001b[0;34m.\u001b[0m\u001b[0mget_winner\u001b[0m\u001b[0;34m(\u001b[0m\u001b[0;34m)\u001b[0m\u001b[0;34m\u001b[0m\u001b[0;34m\u001b[0m\u001b[0m\n",
            "\u001b[0;32m<ipython-input-3-451a126ccc1a>\u001b[0m in \u001b[0;36mapply_move\u001b[0;34m(self, move)\u001b[0m\n\u001b[1;32m     19\u001b[0m         \u001b[0mnew_state\u001b[0m \u001b[0;34m=\u001b[0m \u001b[0mGameState\u001b[0m\u001b[0;34m(\u001b[0m\u001b[0mself\u001b[0m\u001b[0;34m.\u001b[0m\u001b[0mp1mancala\u001b[0m\u001b[0;34m,\u001b[0m \u001b[0mself\u001b[0m\u001b[0;34m.\u001b[0m\u001b[0mp1marbles\u001b[0m\u001b[0;34m,\u001b[0m \u001b[0mself\u001b[0m\u001b[0;34m.\u001b[0m\u001b[0mp2mancala\u001b[0m\u001b[0;34m,\u001b[0m \u001b[0mself\u001b[0m\u001b[0;34m.\u001b[0m\u001b[0mp2marbles\u001b[0m\u001b[0;34m,\u001b[0m \u001b[0mself\u001b[0m\u001b[0;34m.\u001b[0m\u001b[0mturn\u001b[0m\u001b[0;34m)\u001b[0m\u001b[0;34m\u001b[0m\u001b[0;34m\u001b[0m\u001b[0m\n\u001b[1;32m     20\u001b[0m         \u001b[0;32mif\u001b[0m \u001b[0mnew_state\u001b[0m\u001b[0;34m.\u001b[0m\u001b[0mturn\u001b[0m \u001b[0;34m==\u001b[0m \u001b[0;34m'p1'\u001b[0m\u001b[0;34m:\u001b[0m\u001b[0;34m\u001b[0m\u001b[0;34m\u001b[0m\u001b[0m\n\u001b[0;32m---> 21\u001b[0;31m             \u001b[0mextramove\u001b[0m\u001b[0;34m,\u001b[0m \u001b[0mnew_state\u001b[0m\u001b[0;34m.\u001b[0m\u001b[0mp1mancala\u001b[0m\u001b[0;34m,\u001b[0m \u001b[0mnew_state\u001b[0m\u001b[0;34m.\u001b[0m\u001b[0mp1marbles\u001b[0m\u001b[0;34m,\u001b[0m \u001b[0mnew_state\u001b[0m\u001b[0;34m.\u001b[0m\u001b[0mp2mancala\u001b[0m\u001b[0;34m,\u001b[0m \u001b[0mnew_state\u001b[0m\u001b[0;34m.\u001b[0m\u001b[0mp2marbles\u001b[0m \u001b[0;34m=\u001b[0m \u001b[0mchangeboardacctobutton\u001b[0m\u001b[0;34m(\u001b[0m\u001b[0mnew_state\u001b[0m\u001b[0;34m.\u001b[0m\u001b[0mturn\u001b[0m\u001b[0;34m,\u001b[0m\u001b[0mmove\u001b[0m\u001b[0;34m,\u001b[0m \u001b[0mnew_state\u001b[0m\u001b[0;34m.\u001b[0m\u001b[0mp1mancala\u001b[0m\u001b[0;34m,\u001b[0m \u001b[0mnew_state\u001b[0m\u001b[0;34m.\u001b[0m\u001b[0mp1marbles\u001b[0m\u001b[0;34m,\u001b[0m \u001b[0mnew_state\u001b[0m\u001b[0;34m.\u001b[0m\u001b[0mp2mancala\u001b[0m\u001b[0;34m,\u001b[0m \u001b[0mnew_state\u001b[0m\u001b[0;34m.\u001b[0m\u001b[0mp2marbles\u001b[0m\u001b[0;34m)\u001b[0m\u001b[0;34m\u001b[0m\u001b[0;34m\u001b[0m\u001b[0m\n\u001b[0m\u001b[1;32m     22\u001b[0m             \u001b[0mnew_state\u001b[0m\u001b[0;34m.\u001b[0m\u001b[0mturn\u001b[0m \u001b[0;34m=\u001b[0m \u001b[0;34m'p1'\u001b[0m \u001b[0;32mif\u001b[0m \u001b[0mextramove\u001b[0m \u001b[0;32melse\u001b[0m \u001b[0;34m'p2'\u001b[0m\u001b[0;34m\u001b[0m\u001b[0;34m\u001b[0m\u001b[0m\n\u001b[1;32m     23\u001b[0m         \u001b[0;32melse\u001b[0m\u001b[0;34m:\u001b[0m\u001b[0;34m\u001b[0m\u001b[0;34m\u001b[0m\u001b[0m\n",
            "\u001b[0;32m<ipython-input-1-182aa9c0d1ca>\u001b[0m in \u001b[0;36mchangeboardacctobutton\u001b[0;34m(turn, i, p1mancalao, p1marbleso, p2mancalao, p2marbleso)\u001b[0m\n\u001b[1;32m     58\u001b[0m                 \u001b[0mstones\u001b[0m \u001b[0;34m-=\u001b[0m \u001b[0;36m6\u001b[0m\u001b[0;34m\u001b[0m\u001b[0;34m\u001b[0m\u001b[0m\n\u001b[1;32m     59\u001b[0m                 \u001b[0;32mfor\u001b[0m \u001b[0mj\u001b[0m \u001b[0;32min\u001b[0m \u001b[0mrange\u001b[0m\u001b[0;34m(\u001b[0m\u001b[0mstones\u001b[0m\u001b[0;34m)\u001b[0m\u001b[0;34m:\u001b[0m\u001b[0;34m\u001b[0m\u001b[0;34m\u001b[0m\u001b[0m\n\u001b[0;32m---> 60\u001b[0;31m                     \u001b[0mp1marbles\u001b[0m\u001b[0;34m[\u001b[0m\u001b[0mj\u001b[0m\u001b[0;34m]\u001b[0m \u001b[0;34m+=\u001b[0m \u001b[0;36m1\u001b[0m\u001b[0;34m\u001b[0m\u001b[0;34m\u001b[0m\u001b[0m\n\u001b[0m\u001b[1;32m     61\u001b[0m                 \u001b[0mstones\u001b[0m \u001b[0;34m=\u001b[0m \u001b[0;36m0\u001b[0m\u001b[0;34m\u001b[0m\u001b[0;34m\u001b[0m\u001b[0m\n\u001b[1;32m     62\u001b[0m         \u001b[0;32mreturn\u001b[0m \u001b[0mextramove\u001b[0m\u001b[0;34m,\u001b[0m \u001b[0mp1mancala\u001b[0m\u001b[0;34m,\u001b[0m \u001b[0mp1marbles\u001b[0m\u001b[0;34m,\u001b[0m \u001b[0mp2mancala\u001b[0m\u001b[0;34m,\u001b[0m \u001b[0mp2marbles\u001b[0m\u001b[0;34m\u001b[0m\u001b[0;34m\u001b[0m\u001b[0m\n",
            "\u001b[0;31mIndexError\u001b[0m: list index out of range"
          ]
        }
      ]
    },
    {
      "cell_type": "code",
      "source": [],
      "metadata": {
        "id": "s6GtlVY-nGDF"
      },
      "execution_count": null,
      "outputs": []
    }
  ]
}